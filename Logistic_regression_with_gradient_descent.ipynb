{
  "nbformat": 4,
  "nbformat_minor": 0,
  "metadata": {
    "colab": {
      "provenance": [],
      "toc_visible": true,
      "authorship_tag": "ABX9TyPkJPZ8H5wAkeE5UNSfRHeh",
      "include_colab_link": true
    },
    "kernelspec": {
      "name": "python3",
      "display_name": "Python 3"
    },
    "language_info": {
      "name": "python"
    }
  },
  "cells": [
    {
      "cell_type": "markdown",
      "metadata": {
        "id": "view-in-github",
        "colab_type": "text"
      },
      "source": [
        "<a href=\"https://colab.research.google.com/github/AlgoNeural/logistic_regression/blob/main/Logistic_regression_with_gradient_descent.ipynb\" target=\"_parent\"><img src=\"https://colab.research.google.com/assets/colab-badge.svg\" alt=\"Open In Colab\"/></a>"
      ]
    },
    {
      "cell_type": "code",
      "source": [
        "import numpy as np\n",
        "import torch\n",
        "import torchvision\n",
        "from torchvision import transforms\n",
        "import matplotlib.pyplot as plt"
      ],
      "metadata": {
        "id": "P-PWXmzYUkwo"
      },
      "execution_count": 108,
      "outputs": []
    },
    {
      "cell_type": "markdown",
      "source": [
        "# **1-dimensional gradient descent**"
      ],
      "metadata": {
        "id": "_WBmmA91VxGQ"
      }
    },
    {
      "cell_type": "markdown",
      "source": [
        "###**Function:** $f(x) = x^2$"
      ],
      "metadata": {
        "id": "N52rqR-YhmPj"
      }
    },
    {
      "cell_type": "code",
      "source": [
        "x_values = np.linspace(-10, 10, 100)\n",
        "y_values = [x**2 for x in x_values]\n",
        "\n",
        "plt.plot(x_values, y_values)\n",
        "plt.show()"
      ],
      "metadata": {
        "colab": {
          "base_uri": "https://localhost:8080/",
          "height": 430
        },
        "id": "t_tNCm7r1-v-",
        "outputId": "28b73cea-0f97-4dd2-8597-5aeecb6383c7"
      },
      "execution_count": 109,
      "outputs": [
        {
          "output_type": "display_data",
          "data": {
            "text/plain": [
              "<Figure size 640x480 with 1 Axes>"
            ],
            "image/png": "[encoded data removed]"
          },
          "metadata": {}
        }
      ]
    },
    {
      "cell_type": "code",
      "source": [
        "def f(x):\n",
        "  return x**2"
      ],
      "metadata": {
        "id": "C2aDeKzi2Hed"
      },
      "execution_count": 110,
      "outputs": []
    },
    {
      "cell_type": "markdown",
      "source": [
        "###**Derivative:** $\\frac{df}{dx} = 2x$"
      ],
      "metadata": {
        "id": "V_L9jAJoPzzH"
      }
    },
    {
      "cell_type": "code",
      "source": [
        "def dfdx(x):\n",
        "  return 2 * x"
      ],
      "metadata": {
        "id": "8LiHtMz42Ogt"
      },
      "execution_count": 111,
      "outputs": []
    },
    {
      "cell_type": "markdown",
      "source": [
        "###**Gradient descent**"
      ],
      "metadata": {
        "id": "yV5sfuUEP3Vi"
      }
    },
    {
      "cell_type": "code",
      "source": [
        "# Initialize\n",
        "x0 = 5\n",
        "lerning_rate = 0.1\n",
        "n_steps = 25\n",
        "\n",
        "# Run gradient descent\n",
        "x = x0\n",
        "for iter in range(n_steps):\n",
        "  print(f\"iter: {iter:2d}  x: {x:10.6f}  f(x): {f(x):10.6f}\")\n",
        "  # Find the gradient\n",
        "  grad = dfdx(x)\n",
        "  # Update the argument\n",
        "  x = x - lerning_rate * grad"
      ],
      "metadata": {
        "colab": {
          "base_uri": "https://localhost:8080/"
        },
        "id": "4Yd-9kJ92WS2",
        "outputId": "aeb5610f-d088-43ae-9e14-dac2300c7823"
      },
      "execution_count": 112,
      "outputs": [
        {
          "output_type": "stream",
          "name": "stdout",
          "text": [
            "iter:  0  x:   5.000000  f(x):  25.000000\n",
            "iter:  1  x:   4.000000  f(x):  16.000000\n",
            "iter:  2  x:   3.200000  f(x):  10.240000\n",
            "iter:  3  x:   2.560000  f(x):   6.553600\n",
            "iter:  4  x:   2.048000  f(x):   4.194304\n",
            "iter:  5  x:   1.638400  f(x):   2.684355\n",
            "iter:  6  x:   1.310720  f(x):   1.717987\n",
            "iter:  7  x:   1.048576  f(x):   1.099512\n",
            "iter:  8  x:   0.838861  f(x):   0.703687\n",
            "iter:  9  x:   0.671089  f(x):   0.450360\n",
            "iter: 10  x:   0.536871  f(x):   0.288230\n",
            "iter: 11  x:   0.429497  f(x):   0.184467\n",
            "iter: 12  x:   0.343597  f(x):   0.118059\n",
            "iter: 13  x:   0.274878  f(x):   0.075558\n",
            "iter: 14  x:   0.219902  f(x):   0.048357\n",
            "iter: 15  x:   0.175922  f(x):   0.030949\n",
            "iter: 16  x:   0.140737  f(x):   0.019807\n",
            "iter: 17  x:   0.112590  f(x):   0.012677\n",
            "iter: 18  x:   0.090072  f(x):   0.008113\n",
            "iter: 19  x:   0.072058  f(x):   0.005192\n",
            "iter: 20  x:   0.057646  f(x):   0.003323\n",
            "iter: 21  x:   0.046117  f(x):   0.002127\n",
            "iter: 22  x:   0.036893  f(x):   0.001361\n",
            "iter: 23  x:   0.029515  f(x):   0.000871\n",
            "iter: 24  x:   0.023612  f(x):   0.000558\n"
          ]
        }
      ]
    },
    {
      "cell_type": "markdown",
      "source": [
        "# **Generic form**"
      ],
      "metadata": {
        "id": "6HA-NnahRH3-"
      }
    },
    {
      "cell_type": "code",
      "source": [
        "def format_value(value):\n",
        "    if isinstance(value, np.ndarray):\n",
        "        return np.array2string(value, formatter={'float_kind': \n",
        "                                                 lambda x: f\"{x:10.6f}\"})\n",
        "    else:\n",
        "        return f\"{value:10.6f}\"\n",
        "\n",
        "\n",
        "def grad_descent(func, derivative, x0, lerning_rate, n_steps):\n",
        "  # Run gradient descent\n",
        "  x = x0\n",
        "  for iter in range(n_steps):\n",
        "    x_str = format_value(x)\n",
        "    fx_str = format_value(func(x))\n",
        "    arg_str = f\"x: {x_str}\"\n",
        "    print(f\"iter: {iter:2d}  {arg_str} f(x): {fx_str}\")\n",
        "    # Find the gradient\n",
        "    grad = derivative(x)\n",
        "    # Update the argument\n",
        "    x = x - lerning_rate * grad\n",
        "  return x"
      ],
      "metadata": {
        "id": "QO0j7H94-RO-"
      },
      "execution_count": 113,
      "outputs": []
    },
    {
      "cell_type": "code",
      "source": [
        "# Test\n",
        "x_ = grad_descent(f, dfdx, x0=-7, lerning_rate=0.1, n_steps=35)"
      ],
      "metadata": {
        "colab": {
          "base_uri": "https://localhost:8080/"
        },
        "id": "iVDgbPsb-8Fi",
        "outputId": "13d4baa6-df91-4589-d640-2f7234f9e0c5"
      },
      "execution_count": 114,
      "outputs": [
        {
          "output_type": "stream",
          "name": "stdout",
          "text": [
            "iter:  0  x:  -7.000000 f(x):  49.000000\n",
            "iter:  1  x:  -5.600000 f(x):  31.360000\n",
            "iter:  2  x:  -4.480000 f(x):  20.070400\n",
            "iter:  3  x:  -3.584000 f(x):  12.845056\n",
            "iter:  4  x:  -2.867200 f(x):   8.220836\n",
            "iter:  5  x:  -2.293760 f(x):   5.261335\n",
            "iter:  6  x:  -1.835008 f(x):   3.367254\n",
            "iter:  7  x:  -1.468006 f(x):   2.155043\n",
            "iter:  8  x:  -1.174405 f(x):   1.379227\n",
            "iter:  9  x:  -0.939524 f(x):   0.882706\n",
            "iter: 10  x:  -0.751619 f(x):   0.564932\n",
            "iter: 11  x:  -0.601295 f(x):   0.361556\n",
            "iter: 12  x:  -0.481036 f(x):   0.231396\n",
            "iter: 13  x:  -0.384829 f(x):   0.148093\n",
            "iter: 14  x:  -0.307863 f(x):   0.094780\n",
            "iter: 15  x:  -0.246291 f(x):   0.060659\n",
            "iter: 16  x:  -0.197032 f(x):   0.038822\n",
            "iter: 17  x:  -0.157626 f(x):   0.024846\n",
            "iter: 18  x:  -0.126101 f(x):   0.015901\n",
            "iter: 19  x:  -0.100881 f(x):   0.010177\n",
            "iter: 20  x:  -0.080705 f(x):   0.006513\n",
            "iter: 21  x:  -0.064564 f(x):   0.004168\n",
            "iter: 22  x:  -0.051651 f(x):   0.002668\n",
            "iter: 23  x:  -0.041321 f(x):   0.001707\n",
            "iter: 24  x:  -0.033057 f(x):   0.001093\n",
            "iter: 25  x:  -0.026445 f(x):   0.000699\n",
            "iter: 26  x:  -0.021156 f(x):   0.000448\n",
            "iter: 27  x:  -0.016925 f(x):   0.000286\n",
            "iter: 28  x:  -0.013540 f(x):   0.000183\n",
            "iter: 29  x:  -0.010832 f(x):   0.000117\n",
            "iter: 30  x:  -0.008666 f(x):   0.000075\n",
            "iter: 31  x:  -0.006932 f(x):   0.000048\n",
            "iter: 32  x:  -0.005546 f(x):   0.000031\n",
            "iter: 33  x:  -0.004437 f(x):   0.000020\n",
            "iter: 34  x:  -0.003549 f(x):   0.000013\n"
          ]
        }
      ]
    },
    {
      "cell_type": "markdown",
      "source": [
        "# **Multidimensional (multivariate) gradient descent**"
      ],
      "metadata": {
        "id": "x1TQgQc9SnlK"
      }
    },
    {
      "cell_type": "markdown",
      "source": [
        "### **Function: $f(x) = \\|x - \\mathbb{1}\\|^2 = \\sum_{i=1}^n (x_i - 1)^2$**"
      ],
      "metadata": {
        "id": "emilE3sSS2iW"
      }
    },
    {
      "cell_type": "code",
      "source": [
        "def f_mult(x):\n",
        "  return np.linalg.norm(x - 1)**2"
      ],
      "metadata": {
        "id": "6peJYuHFB6gW"
      },
      "execution_count": 115,
      "outputs": []
    },
    {
      "cell_type": "markdown",
      "source": [
        "###**Gradient:** $∇f(x) = 2(x - \\mathbb{1}) = (2x_1 - 1, 2x_2 - 1, \\dots, 2x_n - 1)$"
      ],
      "metadata": {
        "id": "VdWeCYtXUGab"
      }
    },
    {
      "cell_type": "code",
      "source": [
        "def f_mult_grad(x):\n",
        "  return 2 * (x - 1)"
      ],
      "metadata": {
        "id": "CELK9_j4Cbdt"
      },
      "execution_count": 116,
      "outputs": []
    },
    {
      "cell_type": "code",
      "source": [
        "# Test\n",
        "x_ = grad_descent(f_mult, f_mult_grad, x0=np.array([2, 3, 4, 2.4, -1]), lerning_rate=0.1, n_steps=35)"
      ],
      "metadata": {
        "colab": {
          "base_uri": "https://localhost:8080/"
        },
        "id": "P2LDuw-FCkvs",
        "outputId": "85344b62-4ca0-4352-fbef-8e7725bd51f0"
      },
      "execution_count": 117,
      "outputs": [
        {
          "output_type": "stream",
          "name": "stdout",
          "text": [
            "iter:  0  x: [  2.000000   3.000000   4.000000   2.400000  -1.000000] f(x):  19.960000\n",
            "iter:  1  x: [  1.800000   2.600000   3.400000   2.120000  -0.600000] f(x):  12.774400\n",
            "iter:  2  x: [  1.640000   2.280000   2.920000   1.896000  -0.280000] f(x):   8.175616\n",
            "iter:  3  x: [  1.512000   2.024000   2.536000   1.716800  -0.024000] f(x):   5.232394\n",
            "iter:  4  x: [  1.409600   1.819200   2.228800   1.573440   0.180800] f(x):   3.348732\n",
            "iter:  5  x: [  1.327680   1.655360   1.983040   1.458752   0.344640] f(x):   2.143189\n",
            "iter:  6  x: [  1.262144   1.524288   1.786432   1.367002   0.475712] f(x):   1.371641\n",
            "iter:  7  x: [  1.209715   1.419430   1.629146   1.293601   0.580570] f(x):   0.877850\n",
            "iter:  8  x: [  1.167772   1.335544   1.503316   1.234881   0.664456] f(x):   0.561824\n",
            "iter:  9  x: [  1.134218   1.268435   1.402653   1.187905   0.731565] f(x):   0.359567\n",
            "iter: 10  x: [  1.107374   1.214748   1.322123   1.150324   0.785252] f(x):   0.230123\n",
            "iter: 11  x: [  1.085899   1.171799   1.257698   1.120259   0.828201] f(x):   0.147279\n",
            "iter: 12  x: [  1.068719   1.137439   1.206158   1.096207   0.862561] f(x):   0.094258\n",
            "iter: 13  x: [  1.054976   1.109951   1.164927   1.076966   0.890049] f(x):   0.060325\n",
            "iter: 14  x: [  1.043980   1.087961   1.131941   1.061573   0.912039] f(x):   0.038608\n",
            "iter: 15  x: [  1.035184   1.070369   1.105553   1.049258   0.929631] f(x):   0.024709\n",
            "iter: 16  x: [  1.028147   1.056295   1.084442   1.039406   0.943705] f(x):   0.015814\n",
            "iter: 17  x: [  1.022518   1.045036   1.067554   1.031525   0.954964] f(x):   0.010121\n",
            "iter: 18  x: [  1.018014   1.036029   1.054043   1.025220   0.963971] f(x):   0.006477\n",
            "iter: 19  x: [  1.014412   1.028823   1.043235   1.020176   0.971177] f(x):   0.004146\n",
            "iter: 20  x: [  1.011529   1.023058   1.034588   1.016141   0.976942] f(x):   0.002653\n",
            "iter: 21  x: [  1.009223   1.018447   1.027670   1.012913   0.981553] f(x):   0.001698\n",
            "iter: 22  x: [  1.007379   1.014757   1.022136   1.010330   0.985243] f(x):   0.001087\n",
            "iter: 23  x: [  1.005903   1.011806   1.017709   1.008264   0.988194] f(x):   0.000696\n",
            "iter: 24  x: [  1.004722   1.009445   1.014167   1.006611   0.990555] f(x):   0.000445\n",
            "iter: 25  x: [  1.003778   1.007556   1.011334   1.005289   0.992444] f(x):   0.000285\n",
            "iter: 26  x: [  1.003022   1.006045   1.009067   1.004231   0.993955] f(x):   0.000182\n",
            "iter: 27  x: [  1.002418   1.004836   1.007254   1.003385   0.995164] f(x):   0.000117\n",
            "iter: 28  x: [  1.001934   1.003869   1.005803   1.002708   0.996131] f(x):   0.000075\n",
            "iter: 29  x: [  1.001547   1.003095   1.004642   1.002166   0.996905] f(x):   0.000048\n",
            "iter: 30  x: [  1.001238   1.002476   1.003714   1.001733   0.997524] f(x):   0.000031\n",
            "iter: 31  x: [  1.000990   1.001981   1.002971   1.001386   0.998019] f(x):   0.000020\n",
            "iter: 32  x: [  1.000792   1.001585   1.002377   1.001109   0.998415] f(x):   0.000013\n",
            "iter: 33  x: [  1.000634   1.001268   1.001901   1.000887   0.998732] f(x):   0.000008\n",
            "iter: 34  x: [  1.000507   1.001014   1.001521   1.000710   0.998986] f(x):   0.000005\n"
          ]
        }
      ]
    },
    {
      "cell_type": "markdown",
      "source": [
        "#**Image classification**"
      ],
      "metadata": {
        "id": "rPOpE7NWbSDb"
      }
    },
    {
      "cell_type": "markdown",
      "source": [
        "### **Download the data**"
      ],
      "metadata": {
        "id": "X9RsFvPtYlXx"
      }
    },
    {
      "cell_type": "code",
      "source": [
        "# 0s vs 1s\n",
        "transform = transforms.Compose([transforms.ToTensor(),\n",
        "                                transforms.Normalize((0.5,), (0.5,))])\n",
        "\n",
        "# Download and load the training data\n",
        "train_set = torchvision.datasets.MNIST(root='./data', train=True, download=True, \n",
        "                                       transform=transform)\n",
        "train_loader = torch.utils.data.DataLoader(train_set, batch_size=64, \n",
        "                                           shuffle=True)\n",
        "\n",
        "# Download and load the test data\n",
        "test_set = torchvision.datasets.MNIST(root='./data', train=False, download=True, \n",
        "                                      transform=transform)\n",
        "test_loader = torch.utils.data.DataLoader(test_set, batch_size=64, shuffle=True)"
      ],
      "metadata": {
        "id": "p5oeJL0jylIk"
      },
      "execution_count": 118,
      "outputs": []
    },
    {
      "cell_type": "markdown",
      "source": [
        "### **Filter and normalize the data**"
      ],
      "metadata": {
        "id": "7qGmcafZY61I"
      }
    },
    {
      "cell_type": "markdown",
      "source": [
        "train_set,   test_set"
      ],
      "metadata": {
        "id": "0gq8Hx-IKBM5"
      }
    },
    {
      "cell_type": "code",
      "source": [
        "train_images = train_set.data.numpy()\n",
        "trainY = train_set.targets.numpy()[:, np.newaxis]\n",
        "test_images = test_set.data.numpy()\n",
        "testY = test_set.targets.numpy()[:, np.newaxis]"
      ],
      "metadata": {
        "id": "ycNseLg3KGGz"
      },
      "execution_count": 119,
      "outputs": []
    },
    {
      "cell_type": "code",
      "source": [
        "trainY.shape"
      ],
      "metadata": {
        "colab": {
          "base_uri": "https://localhost:8080/"
        },
        "id": "DDp3HBoYKim7",
        "outputId": "8efa1ab9-cbdf-4cf0-8103-0e423964e67e"
      },
      "execution_count": 120,
      "outputs": [
        {
          "output_type": "execute_result",
          "data": {
            "text/plain": [
              "(60000, 1)"
            ]
          },
          "metadata": {},
          "execution_count": 120
        }
      ]
    },
    {
      "cell_type": "code",
      "source": [
        "def get_binary_images(data, labels):\n",
        "  lab = np.squeeze(labels)\n",
        "  idx = (lab == 0) | (lab == 1)\n",
        "  return data[idx], labels[idx]"
      ],
      "metadata": {
        "id": "hPUx0sbA-cgj"
      },
      "execution_count": 121,
      "outputs": []
    },
    {
      "cell_type": "code",
      "source": [
        "# Filter the data on 0 and 1\n",
        "train_images, trainY = get_binary_images(train_images, trainY)"
      ],
      "metadata": {
        "id": "UFNedMA1-58c"
      },
      "execution_count": 122,
      "outputs": []
    },
    {
      "cell_type": "code",
      "source": [
        "# Show images\n",
        "N = 10\n",
        "for i in range(N):\n",
        "  plt.subplot(int(N/2), 2, i + 1)\n",
        "  plt.imshow(train_images[i])\n",
        "  plt.axis('Off')"
      ],
      "metadata": {
        "colab": {
          "base_uri": "https://localhost:8080/",
          "height": 406
        },
        "id": "M3Qe3N4E_HQj",
        "outputId": "a502e224-f43c-4d75-95fe-8ff252e33906"
      },
      "execution_count": 123,
      "outputs": [
        {
          "output_type": "display_data",
          "data": {
            "text/plain": [
              "<Figure size 640x480 with 10 Axes>"
            ],
            "image/png": "[encoded data removed]"
          },
          "metadata": {}
        }
      ]
    },
    {
      "cell_type": "code",
      "source": [
        "train_images.shape"
      ],
      "metadata": {
        "colab": {
          "base_uri": "https://localhost:8080/"
        },
        "id": "HJR9dRK7Kxxu",
        "outputId": "a5a555a8-266c-4146-d35b-3f759a0f3236"
      },
      "execution_count": 124,
      "outputs": [
        {
          "output_type": "execute_result",
          "data": {
            "text/plain": [
              "(12665, 28, 28)"
            ]
          },
          "metadata": {},
          "execution_count": 124
        }
      ]
    },
    {
      "cell_type": "code",
      "source": [
        "train_images = np.reshape(train_images, (train_images.shape[0], -1))"
      ],
      "metadata": {
        "id": "sI9perAGK8Ir"
      },
      "execution_count": 125,
      "outputs": []
    },
    {
      "cell_type": "code",
      "source": [
        "train_images.shape"
      ],
      "metadata": {
        "colab": {
          "base_uri": "https://localhost:8080/"
        },
        "id": "-hRCGygbLInZ",
        "outputId": "52979640-5396-4ea4-df9b-4b620e7dc134"
      },
      "execution_count": 126,
      "outputs": [
        {
          "output_type": "execute_result",
          "data": {
            "text/plain": [
              "(12665, 784)"
            ]
          },
          "metadata": {},
          "execution_count": 126
        }
      ]
    },
    {
      "cell_type": "code",
      "source": [
        "mean = np.mean(train_images)\n",
        "std = np.std(train_images)\n",
        "trainX = (train_images - mean) / std"
      ],
      "metadata": {
        "id": "0uafP9ZoQ25L"
      },
      "execution_count": 127,
      "outputs": []
    },
    {
      "cell_type": "code",
      "source": [
        "test_images, testY = get_binary_images(test_images, testY)\n",
        "test_images = np.reshape(test_images, (test_images.shape[0], -1))\n",
        "testX = (test_images - mean) / std"
      ],
      "metadata": {
        "id": "0uL-i3rBRj8f"
      },
      "execution_count": 128,
      "outputs": []
    },
    {
      "cell_type": "markdown",
      "source": [
        "# **Prediction with Logistic Regression**"
      ],
      "metadata": {
        "id": "GUUaROiDd3cs"
      }
    },
    {
      "cell_type": "markdown",
      "source": [
        "### **Input: $x \\in \\mathbb{R}^n$**<br><br>\n",
        "\n",
        "\n",
        "### **Model:**\n",
        "#### &nbsp;&nbsp;&nbsp;&nbsp;**Weights:** $w \\in \\mathbb{R}^n$\n",
        "#### &nbsp;&nbsp;&nbsp;&nbsp;**Bias:** $b \\in \\mathbb{R}$<br><br>\n",
        "\n",
        "### **Output:**\n",
        "#### &nbsp;&nbsp;&nbsp;&nbsp;**$Z = ⟨x, w⟩ + b = x_1 w_1 + x_2 w_2 + \\dots + x_n w_n + b$**\n",
        "#### &nbsp;&nbsp;&nbsp;&nbsp;**$h(Z) = p(y=1) = \\frac{1}{1 + e^{-Z}}$**\n",
        "#### &nbsp;&nbsp;&nbsp;&nbsp;$\\text{prediction} = \\begin{cases}1 ,& h(Z) \\ge 0.5\\\\ 0 ,& \\text{otherwise}\\end{cases}$\n",
        "\n",
        "### **Vectorized form**\n",
        "![Screen Shot 2023-04-17 at 6.35.13 PM.png](data:image/png;base64,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)\n",
        "\n"
      ],
      "metadata": {
        "id": "_XY6ymimGr_2"
      }
    },
    {
      "cell_type": "markdown",
      "source": [
        "### **Bias trick**\n",
        "### **$x' = (x_1, \\dots, x_n, 1)$**\n",
        "### **$w' = (w_1, \\dots, w_n, b)$**\n",
        "### **$⟨x, w⟩ + b = ⟨x', w'⟩$**\n",
        "### **$x', w' \\in \\mathbb{R}^{n+1}$**"
      ],
      "metadata": {
        "id": "_p9nrDmxfeic"
      }
    },
    {
      "cell_type": "code",
      "source": [
        "n_train = trainX.shape[0]\n",
        "trainX_ = np.hstack([trainX, np.ones((n_train, 1))])"
      ],
      "metadata": {
        "id": "lWpRE8w0r1IC"
      },
      "execution_count": 129,
      "outputs": []
    },
    {
      "cell_type": "code",
      "source": [
        "n_test = testX.shape[0]\n",
        "testX_ = np.hstack([testX, np.ones((n_test, 1))])"
      ],
      "metadata": {
        "id": "QYBKYy04JZx8"
      },
      "execution_count": 130,
      "outputs": []
    },
    {
      "cell_type": "markdown",
      "source": [
        "### **Predictor**"
      ],
      "metadata": {
        "id": "GpqvxHdy-vwk"
      }
    },
    {
      "cell_type": "code",
      "source": [
        "def h(w, X):\n",
        "  n_samples, n_features = X.shape\n",
        "  assert w.shape == (n_features, 1)\n",
        "  Z = np.dot(X, w)\n",
        "  return 1 / (1 + np.exp(-Z))\n",
        "\n",
        "# Test\n",
        "w = np.random.rand(trainX_.shape[1], 1)\n",
        "hh = h(w, trainX_)\n",
        "print(\"min: \", np.min(hh))\n",
        "print(\"max: \", np.max(hh))"
      ],
      "metadata": {
        "colab": {
          "base_uri": "https://localhost:8080/"
        },
        "id": "vLHiARYPsY8k",
        "outputId": "036b6267-3802-484a-b081-25bd7a085965"
      },
      "execution_count": 131,
      "outputs": [
        {
          "output_type": "stream",
          "name": "stdout",
          "text": [
            "min:  2.034508883601624e-56\n",
            "max:  1.0\n"
          ]
        }
      ]
    },
    {
      "cell_type": "markdown",
      "source": [
        "### **Objective (for $m$ training samples)**\n",
        "### $x^{(i)}$ - $i$-th training input\n",
        "### $y^{(i)}$ - $i$-th training label\n",
        "### $h^{(i)} = h(⟨x^{(i)}, w⟩)$\n",
        "### $J(w) = -\\frac{1}{m}\\sum_{i=1}^m \\left[y^{(i)} \\log(h^{(i)}) + (1 - y^{(i)}) \\log(1 - h^{(i)})\\right]$"
      ],
      "metadata": {
        "id": "c28lwoEjNEQq"
      }
    },
    {
      "cell_type": "code",
      "source": [
        "def J(w, X, Y, eps=1e-15):\n",
        "  m = X.shape[0]\n",
        "  assert Y.shape == (m, 1)\n",
        "  H = h(w, X)\n",
        "  H = np.clip(H, eps, 1 - eps)\n",
        "  terms = Y * np.log(H) + (1 - Y) * np.log(1 - H)\n",
        "  return -1/m * np.sum(terms)\n",
        "\n",
        "# Test\n",
        "J(w=np.ones((3, 1)) * 10, X = np.array([[2, 3, 4], [-3, -4, -5], [1, 2, 3]]), \n",
        "  Y=np.array([[1], [0], [0]]))"
      ],
      "metadata": {
        "colab": {
          "base_uri": "https://localhost:8080/"
        },
        "id": "UoKYr1Rz3xBG",
        "outputId": "ab2e3557-7173-48ec-d2b6-968e0250eb30"
      },
      "execution_count": 132,
      "outputs": [
        {
          "output_type": "execute_result",
          "data": {
            "text/plain": [
              "11.51319199744696"
            ]
          },
          "metadata": {},
          "execution_count": 132
        }
      ]
    },
    {
      "cell_type": "markdown",
      "source": [
        "### **Gradient**\n",
        "### $\\nabla J(w) = \\frac{1}{m} \\langle H - Y, X\\rangle$"
      ],
      "metadata": {
        "id": "YWqREKAdRES2"
      }
    },
    {
      "cell_type": "code",
      "source": [
        "def grad(w, X, Y):\n",
        "  m = X.shape[0]\n",
        "  assert Y.shape == (m, 1)\n",
        "  H = h(w, X)\n",
        "  return 1/m * np.dot(X.T, H - Y)\n",
        "\n",
        "w = np.random.rand(trainX_.shape[1], 1)\n",
        "grad(w, trainX_, trainY)"
      ],
      "metadata": {
        "colab": {
          "base_uri": "https://localhost:8080/"
        },
        "id": "GuJfjGGX_SnW",
        "outputId": "57f6fc38-2d71-4101-a64c-cba6a05a74e3"
      },
      "execution_count": 133,
      "outputs": [
        {
          "output_type": "execute_result",
          "data": {
            "text/plain": [
              "array([[ 0.03028442],\n",
              "       [ 0.03028442],\n",
              "       [ 0.03028442],\n",
              "       [ 0.03028442],\n",
              "       [ 0.03028442],\n",
              "       [ 0.03028442],\n",
              "       [ 0.03028442],\n",
              "       [ 0.03028442],\n",
              "       [ 0.03028442],\n",
              "       [ 0.03028442],\n",
              "       [ 0.03028442],\n",
              "       [ 0.03028442],\n",
              "       [ 0.03028442],\n",
              "       [ 0.03028442],\n",
              "       [ 0.03028442],\n",
              "       [ 0.03028442],\n",
              "       [ 0.03028442],\n",
              "       [ 0.03028442],\n",
              "       [ 0.03028442],\n",
              "       [ 0.03028442],\n",
              "       [ 0.03028442],\n",
              "       [ 0.03028442],\n",
              "       [ 0.03028442],\n",
              "       [ 0.03028442],\n",
              "       [ 0.03028442],\n",
              "       [ 0.03028442],\n",
              "       [ 0.03028442],\n",
              "       [ 0.03028442],\n",
              "       [ 0.03028442],\n",
              "       [ 0.03028442],\n",
              "       [ 0.03028442],\n",
              "       [ 0.03028442],\n",
              "       [ 0.03028442],\n",
              "       [ 0.03028442],\n",
              "       [ 0.03028442],\n",
              "       [ 0.03028442],\n",
              "       [ 0.03028442],\n",
              "       [ 0.03028442],\n",
              "       [ 0.03028442],\n",
              "       [ 0.03041604],\n",
              "       [ 0.03054458],\n",
              "       [ 0.03039136],\n",
              "       [ 0.02996359],\n",
              "       [ 0.02985459],\n",
              "       [ 0.03046437],\n",
              "       [ 0.03040473],\n",
              "       [ 0.03028442],\n",
              "       [ 0.03028442],\n",
              "       [ 0.03028442],\n",
              "       [ 0.03028442],\n",
              "       [ 0.03028442],\n",
              "       [ 0.03028442],\n",
              "       [ 0.03028442],\n",
              "       [ 0.03028442],\n",
              "       [ 0.03028442],\n",
              "       [ 0.03028442],\n",
              "       [ 0.03028442],\n",
              "       [ 0.03028442],\n",
              "       [ 0.03028442],\n",
              "       [ 0.03031424],\n",
              "       [ 0.0302947 ],\n",
              "       [ 0.03028442],\n",
              "       [ 0.03028442],\n",
              "       [ 0.03046334],\n",
              "       [ 0.03032967],\n",
              "       [ 0.03028442],\n",
              "       [ 0.03019599],\n",
              "       [ 0.03020468],\n",
              "       [ 0.03027917],\n",
              "       [ 0.0297126 ],\n",
              "       [ 0.02949952],\n",
              "       [ 0.0291073 ],\n",
              "       [ 0.02941644],\n",
              "       [ 0.02984649],\n",
              "       [ 0.03029782],\n",
              "       [ 0.03042427],\n",
              "       [ 0.03028442],\n",
              "       [ 0.03028442],\n",
              "       [ 0.03028442],\n",
              "       [ 0.03028442],\n",
              "       [ 0.03028442],\n",
              "       [ 0.03028442],\n",
              "       [ 0.03028442],\n",
              "       [ 0.03028442],\n",
              "       [ 0.03028442],\n",
              "       [ 0.03028442],\n",
              "       [ 0.03024123],\n",
              "       [ 0.03036051],\n",
              "       [ 0.03041193],\n",
              "       [ 0.03068237],\n",
              "       [ 0.03062479],\n",
              "       [ 0.03063198],\n",
              "       [ 0.03096516],\n",
              "       [ 0.03122223],\n",
              "       [ 0.03251904],\n",
              "       [ 0.03580721],\n",
              "       [ 0.03941759],\n",
              "       [ 0.03972983],\n",
              "       [ 0.04031345],\n",
              "       [ 0.04322335],\n",
              "       [ 0.04528213],\n",
              "       [ 0.0422501 ],\n",
              "       [ 0.04011081],\n",
              "       [ 0.039579  ],\n",
              "       [ 0.03744622],\n",
              "       [ 0.03409733],\n",
              "       [ 0.03189472],\n",
              "       [ 0.03091444],\n",
              "       [ 0.03053568],\n",
              "       [ 0.03035635],\n",
              "       [ 0.03028442],\n",
              "       [ 0.03028442],\n",
              "       [ 0.03028442],\n",
              "       [ 0.03028442],\n",
              "       [ 0.03013635],\n",
              "       [ 0.03041399],\n",
              "       [ 0.03042016],\n",
              "       [ 0.03062476],\n",
              "       [ 0.03131785],\n",
              "       [ 0.03322989],\n",
              "       [ 0.03760648],\n",
              "       [ 0.04769875],\n",
              "       [ 0.05935322],\n",
              "       [ 0.07684103],\n",
              "       [ 0.0830434 ],\n",
              "       [ 0.07565044],\n",
              "       [ 0.06863555],\n",
              "       [ 0.09565647],\n",
              "       [ 0.12350817],\n",
              "       [ 0.11408825],\n",
              "       [ 0.09263632],\n",
              "       [ 0.06113308],\n",
              "       [ 0.04052407],\n",
              "       [ 0.03591738],\n",
              "       [ 0.03399104],\n",
              "       [ 0.029596  ],\n",
              "       [ 0.029923  ],\n",
              "       [ 0.03046201],\n",
              "       [ 0.03028442],\n",
              "       [ 0.03028442],\n",
              "       [ 0.03028442],\n",
              "       [ 0.03028442],\n",
              "       [ 0.0301857 ],\n",
              "       [ 0.03027414],\n",
              "       [ 0.03036771],\n",
              "       [ 0.03104113],\n",
              "       [ 0.03405197],\n",
              "       [ 0.04071735],\n",
              "       [ 0.05697794],\n",
              "       [ 0.09348044],\n",
              "       [ 0.14834867],\n",
              "       [ 0.21599199],\n",
              "       [ 0.25282   ],\n",
              "       [ 0.25220779],\n",
              "       [ 0.24388721],\n",
              "       [ 0.26733381],\n",
              "       [ 0.31016433],\n",
              "       [ 0.31487365],\n",
              "       [ 0.2815594 ],\n",
              "       [ 0.23081909],\n",
              "       [ 0.16088362],\n",
              "       [ 0.11381269],\n",
              "       [ 0.07084856],\n",
              "       [ 0.03847507],\n",
              "       [ 0.030265  ],\n",
              "       [ 0.03036874],\n",
              "       [ 0.03022992],\n",
              "       [ 0.03028442],\n",
              "       [ 0.03028442],\n",
              "       [ 0.03028442],\n",
              "       [ 0.03026488],\n",
              "       [ 0.029942  ],\n",
              "       [ 0.03103302],\n",
              "       [ 0.0344952 ],\n",
              "       [ 0.04089833],\n",
              "       [ 0.05825591],\n",
              "       [ 0.10137521],\n",
              "       [ 0.18495477],\n",
              "       [ 0.30814026],\n",
              "       [ 0.43860635],\n",
              "       [ 0.50787398],\n",
              "       [ 0.48262674],\n",
              "       [ 0.4141708 ],\n",
              "       [ 0.38455974],\n",
              "       [ 0.41255682],\n",
              "       [ 0.47233788],\n",
              "       [ 0.50907557],\n",
              "       [ 0.49552388],\n",
              "       [ 0.42285289],\n",
              "       [ 0.30603952],\n",
              "       [ 0.17890112],\n",
              "       [ 0.0784507 ],\n",
              "       [ 0.03565942],\n",
              "       [ 0.0306731 ],\n",
              "       [ 0.03029573],\n",
              "       [ 0.03035949],\n",
              "       [ 0.03028442],\n",
              "       [ 0.03028442],\n",
              "       [ 0.03021038],\n",
              "       [ 0.03025049],\n",
              "       [ 0.03108855],\n",
              "       [ 0.0370496 ],\n",
              "       [ 0.05083022],\n",
              "       [ 0.09277423],\n",
              "       [ 0.1803544 ],\n",
              "       [ 0.32820491],\n",
              "       [ 0.50939857],\n",
              "       [ 0.66911974],\n",
              "       [ 0.71362472],\n",
              "       [ 0.59878263],\n",
              "       [ 0.41792398],\n",
              "       [ 0.28772089],\n",
              "       [ 0.30690311],\n",
              "       [ 0.44015852],\n",
              "       [ 0.60856682],\n",
              "       [ 0.71178688],\n",
              "       [ 0.68527631],\n",
              "       [ 0.53444354],\n",
              "       [ 0.33196635],\n",
              "       [ 0.14825838],\n",
              "       [ 0.05035046],\n",
              "       [ 0.030925  ],\n",
              "       [ 0.0302618 ],\n",
              "       [ 0.03044278],\n",
              "       [ 0.03028442],\n",
              "       [ 0.03028442],\n",
              "       [ 0.03036154],\n",
              "       [ 0.03033275],\n",
              "       [ 0.03138264],\n",
              "       [ 0.04035854],\n",
              "       [ 0.07230245],\n",
              "       [ 0.15393905],\n",
              "       [ 0.30047577],\n",
              "       [ 0.49931853],\n",
              "       [ 0.70590963],\n",
              "       [ 0.84785426],\n",
              "       [ 0.82270763],\n",
              "       [ 0.57323599],\n",
              "       [ 0.22286236],\n",
              "       [-0.01824883],\n",
              "       [ 0.0071252 ],\n",
              "       [ 0.23040134],\n",
              "       [ 0.54349126],\n",
              "       [ 0.80289542],\n",
              "       [ 0.88348978],\n",
              "       [ 0.73942572],\n",
              "       [ 0.49199091],\n",
              "       [ 0.23562025],\n",
              "       [ 0.07271453],\n",
              "       [ 0.03102416],\n",
              "       [ 0.03028442],\n",
              "       [ 0.03028442],\n",
              "       [ 0.03028442],\n",
              "       [ 0.03020113],\n",
              "       [ 0.03032864],\n",
              "       [ 0.03052915],\n",
              "       [ 0.03263707],\n",
              "       [ 0.04957551],\n",
              "       [ 0.11381166],\n",
              "       [ 0.2502336 ],\n",
              "       [ 0.44746188],\n",
              "       [ 0.67773009],\n",
              "       [ 0.86790829],\n",
              "       [ 0.94563778],\n",
              "       [ 0.81729026],\n",
              "       [ 0.42001002],\n",
              "       [-0.10626334],\n",
              "       [-0.44156618],\n",
              "       [-0.36943864],\n",
              "       [-0.02191942],\n",
              "       [ 0.40293226],\n",
              "       [ 0.78038288],\n",
              "       [ 0.95489386],\n",
              "       [ 0.88123292],\n",
              "       [ 0.63550519],\n",
              "       [ 0.32943846],\n",
              "       [ 0.0999337 ],\n",
              "       [ 0.03114002],\n",
              "       [ 0.03021964],\n",
              "       [ 0.03028442],\n",
              "       [ 0.03028442],\n",
              "       [ 0.03014766],\n",
              "       [ 0.03042735],\n",
              "       [ 0.03052915],\n",
              "       [ 0.03467094],\n",
              "       [ 0.0729051 ],\n",
              "       [ 0.1818505 ],\n",
              "       [ 0.37060793],\n",
              "       [ 0.60823268],\n",
              "       [ 0.83294658],\n",
              "       [ 0.95910497],\n",
              "       [ 0.95028359],\n",
              "       [ 0.70734049],\n",
              "       [ 0.16222165],\n",
              "       [-0.51972503],\n",
              "       [-0.87890087],\n",
              "       [-0.65258436],\n",
              "       [-0.18346157],\n",
              "       [ 0.29818859],\n",
              "       [ 0.70054727],\n",
              "       [ 0.94620083],\n",
              "       [ 0.95440094],\n",
              "       [ 0.75067087],\n",
              "       [ 0.42139286],\n",
              "       [ 0.13242232],\n",
              "       [ 0.03185791],\n",
              "       [ 0.03022013],\n",
              "       [ 0.03028355],\n",
              "       [ 0.03028442],\n",
              "       [ 0.03022067],\n",
              "       [ 0.03025049],\n",
              "       [ 0.03051784],\n",
              "       [ 0.03938157],\n",
              "       [ 0.10891055],\n",
              "       [ 0.27133743],\n",
              "       [ 0.51414987],\n",
              "       [ 0.76550606],\n",
              "       [ 0.94608958],\n",
              "       [ 0.98026982],\n",
              "       [ 0.85750158],\n",
              "       [ 0.51581648],\n",
              "       [-0.15811762],\n",
              "       [-0.95569131],\n",
              "       [-1.190099  ],\n",
              "       [-0.76027703],\n",
              "       [-0.18520318],\n",
              "       [ 0.25854612],\n",
              "       [ 0.62632862],\n",
              "       [ 0.89676139],\n",
              "       [ 0.97959358],\n",
              "       [ 0.82009283],\n",
              "       [ 0.49817121],\n",
              "       [ 0.16553657],\n",
              "       [ 0.03323177],\n",
              "       [ 0.03048592],\n",
              "       [ 0.03019989],\n",
              "       [ 0.03028442],\n",
              "       [ 0.03030082],\n",
              "       [ 0.03034715],\n",
              "       [ 0.03052504],\n",
              "       [ 0.04687704],\n",
              "       [ 0.16145053],\n",
              "       [ 0.38709308],\n",
              "       [ 0.66647556],\n",
              "       [ 0.89601281],\n",
              "       [ 0.99698233],\n",
              "       [ 0.92149098],\n",
              "       [ 0.69340056],\n",
              "       [ 0.29516082],\n",
              "       [-0.5232606 ],\n",
              "       [-1.31382751],\n",
              "       [-1.32818328],\n",
              "       [-0.70821673],\n",
              "       [-0.09478765],\n",
              "       [ 0.26966278],\n",
              "       [ 0.57286634],\n",
              "       [ 0.85019431],\n",
              "       [ 0.97175805],\n",
              "       [ 0.84843934],\n",
              "       [ 0.54600712],\n",
              "       [ 0.19504686],\n",
              "       [ 0.03474759],\n",
              "       [ 0.03044381],\n",
              "       [ 0.03017131],\n",
              "       [ 0.03025152],\n",
              "       [ 0.03034901],\n",
              "       [ 0.03046334],\n",
              "       [ 0.0307379 ],\n",
              "       [ 0.0599638 ],\n",
              "       [ 0.23719957],\n",
              "       [ 0.51547367],\n",
              "       [ 0.80786091],\n",
              "       [ 0.98329266],\n",
              "       [ 0.98249212],\n",
              "       [ 0.79377243],\n",
              "       [ 0.50307125],\n",
              "       [ 0.04869395],\n",
              "       [-0.90218   ],\n",
              "       [-1.511677  ],\n",
              "       [-1.33352539],\n",
              "       [-0.54269161],\n",
              "       [ 0.02281011],\n",
              "       [ 0.29089871],\n",
              "       [ 0.5571157 ],\n",
              "       [ 0.83471294],\n",
              "       [ 0.96161535],\n",
              "       [ 0.84109748],\n",
              "       [ 0.55452861],\n",
              "       [ 0.21040499],\n",
              "       [ 0.03618105],\n",
              "       [ 0.03029059],\n",
              "       [ 0.03028442],\n",
              "       [ 0.03028442],\n",
              "       [ 0.03028442],\n",
              "       [ 0.03027311],\n",
              "       [ 0.03032144],\n",
              "       [ 0.08019188],\n",
              "       [ 0.32747835],\n",
              "       [ 0.64296653],\n",
              "       [ 0.92250889],\n",
              "       [ 1.02251351],\n",
              "       [ 0.90936927],\n",
              "       [ 0.63705095],\n",
              "       [ 0.31498275],\n",
              "       [-0.22314602],\n",
              "       [-1.18503941],\n",
              "       [-1.57190572],\n",
              "       [-1.22928973],\n",
              "       [-0.33008005],\n",
              "       [ 0.11335671],\n",
              "       [ 0.333117  ],\n",
              "       [ 0.60020684],\n",
              "       [ 0.85377   ],\n",
              "       [ 0.94571898],\n",
              "       [ 0.80533365],\n",
              "       [ 0.52691329],\n",
              "       [ 0.20949327],\n",
              "       [ 0.03722362],\n",
              "       [ 0.03028442],\n",
              "       [ 0.03028442],\n",
              "       [ 0.03028442],\n",
              "       [ 0.03028442],\n",
              "       [ 0.03018673],\n",
              "       [ 0.03046129],\n",
              "       [ 0.10958859],\n",
              "       [ 0.42142438],\n",
              "       [ 0.75412531],\n",
              "       [ 0.99052511],\n",
              "       [ 1.01186259],\n",
              "       [ 0.80670042],\n",
              "       [ 0.48471693],\n",
              "       [ 0.12003002],\n",
              "       [-0.50587309],\n",
              "       [-1.33170511],\n",
              "       [-1.5506512 ],\n",
              "       [-1.01801685],\n",
              "       [-0.15464349],\n",
              "       [ 0.19628051],\n",
              "       [ 0.42377467],\n",
              "       [ 0.68839018],\n",
              "       [ 0.89089903],\n",
              "       [ 0.9149045 ],\n",
              "       [ 0.74418064],\n",
              "       [ 0.46821029],\n",
              "       [ 0.18536601],\n",
              "       [ 0.03634563],\n",
              "       [ 0.03028442],\n",
              "       [ 0.03028442],\n",
              "       [ 0.03028442],\n",
              "       [ 0.03024432],\n",
              "       [ 0.03013018],\n",
              "       [ 0.03084278],\n",
              "       [ 0.13945236],\n",
              "       [ 0.49994883],\n",
              "       [ 0.83218098],\n",
              "       [ 1.02416706],\n",
              "       [ 0.97276447],\n",
              "       [ 0.7000965 ],\n",
              "       [ 0.33741534],\n",
              "       [-0.09407504],\n",
              "       [-0.72768597],\n",
              "       [-1.36579919],\n",
              "       [-1.42362467],\n",
              "       [-0.75478534],\n",
              "       [-0.02392939],\n",
              "       [ 0.31413114],\n",
              "       [ 0.57074821],\n",
              "       [ 0.80461074],\n",
              "       [ 0.92325889],\n",
              "       [ 0.85949164],\n",
              "       [ 0.64750204],\n",
              "       [ 0.38206538],\n",
              "       [ 0.14579224],\n",
              "       [ 0.0346693 ],\n",
              "       [ 0.03028441],\n",
              "       [ 0.03028442],\n",
              "       [ 0.03028442],\n",
              "       [ 0.03015383],\n",
              "       [ 0.03023918],\n",
              "       [ 0.03123454],\n",
              "       [ 0.17060772],\n",
              "       [ 0.54886683],\n",
              "       [ 0.87112186],\n",
              "       [ 1.03434132],\n",
              "       [ 0.93686269],\n",
              "       [ 0.62465514],\n",
              "       [ 0.19760086],\n",
              "       [-0.28890639],\n",
              "       [-0.8477062 ],\n",
              "       [-1.29862721],\n",
              "       [-1.17409451],\n",
              "       [-0.49413666],\n",
              "       [ 0.13842654],\n",
              "       [ 0.49990696],\n",
              "       [ 0.74728008],\n",
              "       [ 0.90032757],\n",
              "       [ 0.91470099],\n",
              "       [ 0.76023816],\n",
              "       [ 0.52530892],\n",
              "       [ 0.28035855],\n",
              "       [ 0.10342417],\n",
              "       [ 0.03283021],\n",
              "       [ 0.0302515 ],\n",
              "       [ 0.03027619],\n",
              "       [ 0.03028134],\n",
              "       [ 0.03025974],\n",
              "       [ 0.03027928],\n",
              "       [ 0.03166319],\n",
              "       [ 0.18384019],\n",
              "       [ 0.54705034],\n",
              "       [ 0.86678535],\n",
              "       [ 1.03240055],\n",
              "       [ 0.93467134],\n",
              "       [ 0.59527819],\n",
              "       [ 0.12704516],\n",
              "       [-0.37047043],\n",
              "       [-0.82352033],\n",
              "       [-1.08631724],\n",
              "       [-0.83159717],\n",
              "       [-0.21316674],\n",
              "       [ 0.36217211],\n",
              "       [ 0.71249824],\n",
              "       [ 0.89252004],\n",
              "       [ 0.93604415],\n",
              "       [ 0.82823016],\n",
              "       [ 0.61582498],\n",
              "       [ 0.38648477],\n",
              "       [ 0.1863619 ],\n",
              "       [ 0.06927869],\n",
              "       [ 0.03129104],\n",
              "       [ 0.03015381],\n",
              "       [ 0.03015177],\n",
              "       [ 0.030269  ],\n",
              "       [ 0.0302001 ],\n",
              "       [ 0.03028442],\n",
              "       [ 0.0322057 ],\n",
              "       [ 0.17470324],\n",
              "       [ 0.5000256 ],\n",
              "       [ 0.81853813],\n",
              "       [ 1.00979116],\n",
              "       [ 0.94981126],\n",
              "       [ 0.64232879],\n",
              "       [ 0.18219297],\n",
              "       [-0.2695259 ],\n",
              "       [-0.5944052 ],\n",
              "       [-0.69794493],\n",
              "       [-0.40685711],\n",
              "       [ 0.11422045],\n",
              "       [ 0.60366138],\n",
              "       [ 0.88405442],\n",
              "       [ 0.94909375],\n",
              "       [ 0.85705449],\n",
              "       [ 0.66938895],\n",
              "       [ 0.45066008],\n",
              "       [ 0.24948687],\n",
              "       [ 0.10948367],\n",
              "       [ 0.04474877],\n",
              "       [ 0.03053258],\n",
              "       [ 0.03028338],\n",
              "       [ 0.03016822],\n",
              "       [ 0.03028442],\n",
              "       [ 0.03028442],\n",
              "       [ 0.03028442],\n",
              "       [ 0.03201832],\n",
              "       [ 0.13909721],\n",
              "       [ 0.40053535],\n",
              "       [ 0.70867424],\n",
              "       [ 0.93224493],\n",
              "       [ 0.95594302],\n",
              "       [ 0.74919462],\n",
              "       [ 0.38795133],\n",
              "       [ 0.04594516],\n",
              "       [-0.16201419],\n",
              "       [-0.19163503],\n",
              "       [ 0.03682189],\n",
              "       [ 0.42451753],\n",
              "       [ 0.76433533],\n",
              "       [ 0.91339982],\n",
              "       [ 0.84955786],\n",
              "       [ 0.67674418],\n",
              "       [ 0.47260366],\n",
              "       [ 0.28097409],\n",
              "       [ 0.13820864],\n",
              "       [ 0.06108273],\n",
              "       [ 0.03450343],\n",
              "       [ 0.03010157],\n",
              "       [ 0.0304294 ],\n",
              "       [ 0.03023198],\n",
              "       [ 0.03025152],\n",
              "       [ 0.03027414],\n",
              "       [ 0.03020627],\n",
              "       [ 0.03182742],\n",
              "       [ 0.09377373],\n",
              "       [ 0.26931571],\n",
              "       [ 0.51879508],\n",
              "       [ 0.7577754 ],\n",
              "       [ 0.8621118 ],\n",
              "       [ 0.80389014],\n",
              "       [ 0.61023718],\n",
              "       [ 0.40593139],\n",
              "       [ 0.28922044],\n",
              "       [ 0.25919576],\n",
              "       [ 0.36225514],\n",
              "       [ 0.56729117],\n",
              "       [ 0.72990962],\n",
              "       [ 0.74965762],\n",
              "       [ 0.62683295],\n",
              "       [ 0.44110374],\n",
              "       [ 0.26910461],\n",
              "       [ 0.14022385],\n",
              "       [ 0.06834473],\n",
              "       [ 0.03978355],\n",
              "       [ 0.03133426],\n",
              "       [ 0.03019603],\n",
              "       [ 0.03058147],\n",
              "       [ 0.03032452],\n",
              "       [ 0.03025254],\n",
              "       [ 0.03027414],\n",
              "       [ 0.0302073 ],\n",
              "       [ 0.03088965],\n",
              "       [ 0.0523651 ],\n",
              "       [ 0.13859946],\n",
              "       [ 0.29489272],\n",
              "       [ 0.47261857],\n",
              "       [ 0.59985956],\n",
              "       [ 0.64086807],\n",
              "       [ 0.60099599],\n",
              "       [ 0.53783161],\n",
              "       [ 0.48413066],\n",
              "       [ 0.43820189],\n",
              "       [ 0.40392472],\n",
              "       [ 0.43792928],\n",
              "       [ 0.4747445 ],\n",
              "       [ 0.44645328],\n",
              "       [ 0.3386871 ],\n",
              "       [ 0.21301562],\n",
              "       [ 0.11485841],\n",
              "       [ 0.06197622],\n",
              "       [ 0.03969465],\n",
              "       [ 0.03244281],\n",
              "       [ 0.03088493],\n",
              "       [ 0.03028927],\n",
              "       [ 0.03040438],\n",
              "       [ 0.03035846],\n",
              "       [ 0.03028442],\n",
              "       [ 0.03028442],\n",
              "       [ 0.03028442],\n",
              "       [ 0.03033275],\n",
              "       [ 0.03275209],\n",
              "       [ 0.05090746],\n",
              "       [ 0.09844166],\n",
              "       [ 0.17616159],\n",
              "       [ 0.24708269],\n",
              "       [ 0.29850629],\n",
              "       [ 0.33577597],\n",
              "       [ 0.36338519],\n",
              "       [ 0.35345256],\n",
              "       [ 0.27285956],\n",
              "       [ 0.17321337],\n",
              "       [ 0.14183323],\n",
              "       [ 0.16259557],\n",
              "       [ 0.16125551],\n",
              "       [ 0.1200667 ],\n",
              "       [ 0.07154986],\n",
              "       [ 0.0453294 ],\n",
              "       [ 0.03538553],\n",
              "       [ 0.03203284],\n",
              "       [ 0.03121165],\n",
              "       [ 0.0305744 ],\n",
              "       [ 0.03038402],\n",
              "       [ 0.03020888],\n",
              "       [ 0.03028442],\n",
              "       [ 0.03028442],\n",
              "       [ 0.03028442],\n",
              "       [ 0.03028442],\n",
              "       [ 0.03028339],\n",
              "       [ 0.03040745],\n",
              "       [ 0.02897103],\n",
              "       [ 0.03223229],\n",
              "       [ 0.04043255],\n",
              "       [ 0.05266974],\n",
              "       [ 0.06588605],\n",
              "       [ 0.08403431],\n",
              "       [ 0.10368263],\n",
              "       [ 0.10703843],\n",
              "       [ 0.07642363],\n",
              "       [ 0.03986359],\n",
              "       [ 0.03557705],\n",
              "       [ 0.04494667],\n",
              "       [ 0.0477835 ],\n",
              "       [ 0.0405947 ],\n",
              "       [ 0.03452096],\n",
              "       [ 0.03213021],\n",
              "       [ 0.03060422],\n",
              "       [ 0.03055898],\n",
              "       [ 0.03039445],\n",
              "       [ 0.03041604],\n",
              "       [ 0.03024946],\n",
              "       [ 0.03026591],\n",
              "       [ 0.03028442],\n",
              "       [ 0.03028442],\n",
              "       [ 0.03028442],\n",
              "       [ 0.03028442],\n",
              "       [ 0.03028442],\n",
              "       [ 0.03028442],\n",
              "       [ 0.0302001 ],\n",
              "       [ 0.03004564],\n",
              "       [ 0.02991233],\n",
              "       [ 0.02972934],\n",
              "       [ 0.03015799],\n",
              "       [ 0.03085631],\n",
              "       [ 0.03073888],\n",
              "       [ 0.02872522],\n",
              "       [ 0.02598923],\n",
              "       [ 0.02545689],\n",
              "       [ 0.02890782],\n",
              "       [ 0.02980902],\n",
              "       [ 0.03002562],\n",
              "       [ 0.03028555],\n",
              "       [ 0.03028442],\n",
              "       [ 0.03028442],\n",
              "       [ 0.03028442],\n",
              "       [ 0.03028442],\n",
              "       [ 0.03028442],\n",
              "       [ 0.03028442],\n",
              "       [ 0.03028442],\n",
              "       [ 0.03028442],\n",
              "       [ 0.03028442],\n",
              "       [ 0.03028442],\n",
              "       [ 0.03028442],\n",
              "       [ 0.03028442],\n",
              "       [ 0.03028442],\n",
              "       [ 0.03028442],\n",
              "       [ 0.03028442],\n",
              "       [ 0.03028442],\n",
              "       [ 0.03028442],\n",
              "       [ 0.03028442],\n",
              "       [ 0.03028442],\n",
              "       [ 0.03020833],\n",
              "       [ 0.03024123],\n",
              "       [ 0.03028442],\n",
              "       [ 0.03028442],\n",
              "       [ 0.03021861],\n",
              "       [ 0.03008802],\n",
              "       [ 0.03021861],\n",
              "       [ 0.03028442],\n",
              "       [ 0.03028442],\n",
              "       [ 0.03028442],\n",
              "       [ 0.03028442],\n",
              "       [ 0.03028442],\n",
              "       [ 0.03028442],\n",
              "       [ 0.03028442],\n",
              "       [ 0.03028442],\n",
              "       [ 0.03028442],\n",
              "       [ 0.03028442],\n",
              "       [ 0.03028442],\n",
              "       [ 0.03028442],\n",
              "       [ 0.03028442],\n",
              "       [ 0.03028442],\n",
              "       [ 0.03028442],\n",
              "       [ 0.03028442],\n",
              "       [ 0.03028442],\n",
              "       [ 0.03028442],\n",
              "       [ 0.03028442],\n",
              "       [ 0.03028442],\n",
              "       [ 0.03028442],\n",
              "       [ 0.03028442],\n",
              "       [ 0.03028442],\n",
              "       [ 0.03028442],\n",
              "       [ 0.03028442],\n",
              "       [ 0.03028442],\n",
              "       [ 0.03028442],\n",
              "       [ 0.03028442],\n",
              "       [ 0.03028442],\n",
              "       [ 0.03028442],\n",
              "       [ 0.03028442],\n",
              "       [ 0.03028442],\n",
              "       [ 0.03028442],\n",
              "       [ 0.03028442],\n",
              "       [ 0.03028442],\n",
              "       [ 0.03028442],\n",
              "       [ 0.03028442],\n",
              "       [ 0.03028442],\n",
              "       [ 0.03028442],\n",
              "       [-0.07502451]])"
            ]
          },
          "metadata": {},
          "execution_count": 133
        }
      ]
    },
    {
      "cell_type": "markdown",
      "source": [
        "### **Gradient descent**"
      ],
      "metadata": {
        "id": "muh_0V6rVrFR"
      }
    },
    {
      "cell_type": "code",
      "source": [
        "def format_value(value):\n",
        "    if isinstance(value, np.ndarray):\n",
        "        return np.array2string(value, formatter={'float_kind': \n",
        "                                                 lambda x: f\"{x:10.6f}\"})\n",
        "    else:\n",
        "        return f\"{value:10.6f}\"\n",
        "\n",
        "\n",
        "def grad_descent(func, derivative, x0, lerning_rate, n_steps, print_arg=True):\n",
        "  # Run gradient descent\n",
        "  x = x0\n",
        "  for iter in range(n_steps):\n",
        "    x_str = format_value(x)\n",
        "    fx_str = format_value(func(x))\n",
        "    arg_str = f\"x: {x_str} \" if print_arg else \"\"\n",
        "    print(f\"iter: {iter:2d}  {arg_str} f(x): {fx_str}\")\n",
        "    # Find the gradient\n",
        "    grad = derivative(x)\n",
        "    # Update the argument\n",
        "    x = x - lerning_rate * grad\n",
        "  return x"
      ],
      "metadata": {
        "id": "cuo2I7RLB_n2"
      },
      "execution_count": 134,
      "outputs": []
    },
    {
      "cell_type": "code",
      "source": [
        "# Find the best vector w\n",
        "n_features = trainX_.shape[1]\n",
        "w_optimal = grad_descent(func=lambda w: J(w, trainX_, trainY), \n",
        "                         derivative=lambda w: grad(w, trainX_, trainY), \n",
        "                         x0=np.zeros((n_features, 1)), \n",
        "                         lerning_rate=0.1, \n",
        "                         n_steps=500, \n",
        "                         print_arg=False)\n"
      ],
      "metadata": {
        "colab": {
          "base_uri": "https://localhost:8080/"
        },
        "id": "nP1Du-al__Xw",
        "outputId": "6d4c8a47-905e-482b-d723-650413d1c772"
      },
      "execution_count": 135,
      "outputs": [
        {
          "output_type": "stream",
          "name": "stdout",
          "text": [
            "iter:  0   f(x):   0.693147\n",
            "iter:  1   f(x):   0.014728\n",
            "iter:  2   f(x):   0.014251\n",
            "iter:  3   f(x):   0.013837\n",
            "iter:  4   f(x):   0.013469\n",
            "iter:  5   f(x):   0.013138\n",
            "iter:  6   f(x):   0.012836\n",
            "iter:  7   f(x):   0.012557\n",
            "iter:  8   f(x):   0.012298\n",
            "iter:  9   f(x):   0.012055\n",
            "iter: 10   f(x):   0.011828\n",
            "iter: 11   f(x):   0.011613\n",
            "iter: 12   f(x):   0.011409\n",
            "iter: 13   f(x):   0.011216\n",
            "iter: 14   f(x):   0.011032\n",
            "iter: 15   f(x):   0.010856\n",
            "iter: 16   f(x):   0.010688\n",
            "iter: 17   f(x):   0.010528\n",
            "iter: 18   f(x):   0.010374\n",
            "iter: 19   f(x):   0.010227\n",
            "iter: 20   f(x):   0.010085\n",
            "iter: 21   f(x):   0.009948\n",
            "iter: 22   f(x):   0.009817\n",
            "iter: 23   f(x):   0.009691\n",
            "iter: 24   f(x):   0.009569\n",
            "iter: 25   f(x):   0.009451\n",
            "iter: 26   f(x):   0.009337\n",
            "iter: 27   f(x):   0.009228\n",
            "iter: 28   f(x):   0.009121\n",
            "iter: 29   f(x):   0.009018\n",
            "iter: 30   f(x):   0.008919\n",
            "iter: 31   f(x):   0.008822\n",
            "iter: 32   f(x):   0.008729\n",
            "iter: 33   f(x):   0.008638\n",
            "iter: 34   f(x):   0.008549\n",
            "iter: 35   f(x):   0.008464\n",
            "iter: 36   f(x):   0.008381\n",
            "iter: 37   f(x):   0.008300\n",
            "iter: 38   f(x):   0.008221\n",
            "iter: 39   f(x):   0.008144\n",
            "iter: 40   f(x):   0.008070\n",
            "iter: 41   f(x):   0.007997\n",
            "iter: 42   f(x):   0.007926\n",
            "iter: 43   f(x):   0.007857\n",
            "iter: 44   f(x):   0.007790\n",
            "iter: 45   f(x):   0.007725\n",
            "iter: 46   f(x):   0.007661\n",
            "iter: 47   f(x):   0.007598\n",
            "iter: 48   f(x):   0.007537\n",
            "iter: 49   f(x):   0.007478\n",
            "iter: 50   f(x):   0.007419\n",
            "iter: 51   f(x):   0.007363\n",
            "iter: 52   f(x):   0.007307\n",
            "iter: 53   f(x):   0.007253\n",
            "iter: 54   f(x):   0.007199\n",
            "iter: 55   f(x):   0.007147\n",
            "iter: 56   f(x):   0.007096\n",
            "iter: 57   f(x):   0.007046\n",
            "iter: 58   f(x):   0.006998\n",
            "iter: 59   f(x):   0.006950\n",
            "iter: 60   f(x):   0.006903\n",
            "iter: 61   f(x):   0.006857\n",
            "iter: 62   f(x):   0.006812\n",
            "iter: 63   f(x):   0.006768\n",
            "iter: 64   f(x):   0.006724\n",
            "iter: 65   f(x):   0.006682\n",
            "iter: 66   f(x):   0.006640\n",
            "iter: 67   f(x):   0.006599\n",
            "iter: 68   f(x):   0.006559\n",
            "iter: 69   f(x):   0.006520\n",
            "iter: 70   f(x):   0.006481\n",
            "iter: 71   f(x):   0.006443\n",
            "iter: 72   f(x):   0.006406\n",
            "iter: 73   f(x):   0.006369\n",
            "iter: 74   f(x):   0.006333\n",
            "iter: 75   f(x):   0.006298\n",
            "iter: 76   f(x):   0.006263\n",
            "iter: 77   f(x):   0.006229\n",
            "iter: 78   f(x):   0.006195\n",
            "iter: 79   f(x):   0.006162\n",
            "iter: 80   f(x):   0.006129\n",
            "iter: 81   f(x):   0.006097\n",
            "iter: 82   f(x):   0.006066\n",
            "iter: 83   f(x):   0.006035\n",
            "iter: 84   f(x):   0.006004\n",
            "iter: 85   f(x):   0.005974\n",
            "iter: 86   f(x):   0.005945\n",
            "iter: 87   f(x):   0.005915\n",
            "iter: 88   f(x):   0.005887\n",
            "iter: 89   f(x):   0.005858\n",
            "iter: 90   f(x):   0.005831\n",
            "iter: 91   f(x):   0.005803\n",
            "iter: 92   f(x):   0.005776\n",
            "iter: 93   f(x):   0.005749\n",
            "iter: 94   f(x):   0.005723\n",
            "iter: 95   f(x):   0.005697\n",
            "iter: 96   f(x):   0.005672\n",
            "iter: 97   f(x):   0.005647\n",
            "iter: 98   f(x):   0.005622\n",
            "iter: 99   f(x):   0.005597\n",
            "iter: 100   f(x):   0.005573\n",
            "iter: 101   f(x):   0.005549\n",
            "iter: 102   f(x):   0.005526\n",
            "iter: 103   f(x):   0.005503\n",
            "iter: 104   f(x):   0.005480\n",
            "iter: 105   f(x):   0.005457\n",
            "iter: 106   f(x):   0.005435\n",
            "iter: 107   f(x):   0.005413\n",
            "iter: 108   f(x):   0.005391\n",
            "iter: 109   f(x):   0.005370\n",
            "iter: 110   f(x):   0.005348\n",
            "iter: 111   f(x):   0.005327\n",
            "iter: 112   f(x):   0.005307\n",
            "iter: 113   f(x):   0.005286\n",
            "iter: 114   f(x):   0.005266\n",
            "iter: 115   f(x):   0.005246\n",
            "iter: 116   f(x):   0.005227\n",
            "iter: 117   f(x):   0.005207\n",
            "iter: 118   f(x):   0.005188\n",
            "iter: 119   f(x):   0.005169\n",
            "iter: 120   f(x):   0.005150\n",
            "iter: 121   f(x):   0.005132\n",
            "iter: 122   f(x):   0.005113\n",
            "iter: 123   f(x):   0.005095\n",
            "iter: 124   f(x):   0.005077\n",
            "iter: 125   f(x):   0.005059\n",
            "iter: 126   f(x):   0.005042\n",
            "iter: 127   f(x):   0.005024\n",
            "iter: 128   f(x):   0.005007\n",
            "iter: 129   f(x):   0.004990\n",
            "iter: 130   f(x):   0.004974\n",
            "iter: 131   f(x):   0.004957\n",
            "iter: 132   f(x):   0.004941\n",
            "iter: 133   f(x):   0.004924\n",
            "iter: 134   f(x):   0.004908\n",
            "iter: 135   f(x):   0.004892\n",
            "iter: 136   f(x):   0.004877\n",
            "iter: 137   f(x):   0.004861\n",
            "iter: 138   f(x):   0.004846\n",
            "iter: 139   f(x):   0.004830\n",
            "iter: 140   f(x):   0.004815\n",
            "iter: 141   f(x):   0.004800\n",
            "iter: 142   f(x):   0.004785\n",
            "iter: 143   f(x):   0.004771\n",
            "iter: 144   f(x):   0.004756\n",
            "iter: 145   f(x):   0.004742\n",
            "iter: 146   f(x):   0.004728\n",
            "iter: 147   f(x):   0.004713\n",
            "iter: 148   f(x):   0.004700\n",
            "iter: 149   f(x):   0.004686\n",
            "iter: 150   f(x):   0.004672\n",
            "iter: 151   f(x):   0.004658\n",
            "iter: 152   f(x):   0.004645\n",
            "iter: 153   f(x):   0.004632\n",
            "iter: 154   f(x):   0.004618\n",
            "iter: 155   f(x):   0.004605\n",
            "iter: 156   f(x):   0.004592\n",
            "iter: 157   f(x):   0.004580\n",
            "iter: 158   f(x):   0.004567\n",
            "iter: 159   f(x):   0.004554\n",
            "iter: 160   f(x):   0.004542\n",
            "iter: 161   f(x):   0.004529\n",
            "iter: 162   f(x):   0.004517\n",
            "iter: 163   f(x):   0.004505\n",
            "iter: 164   f(x):   0.004493\n",
            "iter: 165   f(x):   0.004481\n",
            "iter: 166   f(x):   0.004469\n",
            "iter: 167   f(x):   0.004457\n",
            "iter: 168   f(x):   0.004446\n",
            "iter: 169   f(x):   0.004434\n",
            "iter: 170   f(x):   0.004423\n",
            "iter: 171   f(x):   0.004411\n",
            "iter: 172   f(x):   0.004400\n",
            "iter: 173   f(x):   0.004389\n",
            "iter: 174   f(x):   0.004378\n",
            "iter: 175   f(x):   0.004367\n",
            "iter: 176   f(x):   0.004356\n",
            "iter: 177   f(x):   0.004345\n",
            "iter: 178   f(x):   0.004334\n",
            "iter: 179   f(x):   0.004324\n",
            "iter: 180   f(x):   0.004313\n",
            "iter: 181   f(x):   0.004302\n",
            "iter: 182   f(x):   0.004292\n",
            "iter: 183   f(x):   0.004282\n",
            "iter: 184   f(x):   0.004272\n",
            "iter: 185   f(x):   0.004261\n",
            "iter: 186   f(x):   0.004251\n",
            "iter: 187   f(x):   0.004241\n",
            "iter: 188   f(x):   0.004231\n",
            "iter: 189   f(x):   0.004222\n",
            "iter: 190   f(x):   0.004212\n",
            "iter: 191   f(x):   0.004202\n",
            "iter: 192   f(x):   0.004192\n",
            "iter: 193   f(x):   0.004183\n",
            "iter: 194   f(x):   0.004173\n",
            "iter: 195   f(x):   0.004164\n",
            "iter: 196   f(x):   0.004155\n",
            "iter: 197   f(x):   0.004145\n",
            "iter: 198   f(x):   0.004136\n",
            "iter: 199   f(x):   0.004127\n",
            "iter: 200   f(x):   0.004118\n",
            "iter: 201   f(x):   0.004109\n",
            "iter: 202   f(x):   0.004100\n",
            "iter: 203   f(x):   0.004091\n",
            "iter: 204   f(x):   0.004082\n",
            "iter: 205   f(x):   0.004073\n",
            "iter: 206   f(x):   0.004065\n",
            "iter: 207   f(x):   0.004056\n",
            "iter: 208   f(x):   0.004047\n",
            "iter: 209   f(x):   0.004039\n",
            "iter: 210   f(x):   0.004030\n",
            "iter: 211   f(x):   0.004022\n",
            "iter: 212   f(x):   0.004014\n",
            "iter: 213   f(x):   0.004005\n",
            "iter: 214   f(x):   0.003997\n",
            "iter: 215   f(x):   0.003989\n",
            "iter: 216   f(x):   0.003981\n",
            "iter: 217   f(x):   0.003973\n",
            "iter: 218   f(x):   0.003965\n",
            "iter: 219   f(x):   0.003957\n",
            "iter: 220   f(x):   0.003949\n",
            "iter: 221   f(x):   0.003941\n",
            "iter: 222   f(x):   0.003933\n",
            "iter: 223   f(x):   0.003925\n",
            "iter: 224   f(x):   0.003918\n",
            "iter: 225   f(x):   0.003910\n",
            "iter: 226   f(x):   0.003902\n",
            "iter: 227   f(x):   0.003895\n",
            "iter: 228   f(x):   0.003887\n",
            "iter: 229   f(x):   0.003880\n",
            "iter: 230   f(x):   0.003872\n",
            "iter: 231   f(x):   0.003865\n",
            "iter: 232   f(x):   0.003858\n",
            "iter: 233   f(x):   0.003850\n",
            "iter: 234   f(x):   0.003843\n",
            "iter: 235   f(x):   0.003836\n",
            "iter: 236   f(x):   0.003829\n",
            "iter: 237   f(x):   0.003821\n",
            "iter: 238   f(x):   0.003814\n",
            "iter: 239   f(x):   0.003807\n",
            "iter: 240   f(x):   0.003800\n",
            "iter: 241   f(x):   0.003793\n",
            "iter: 242   f(x):   0.003786\n",
            "iter: 243   f(x):   0.003780\n",
            "iter: 244   f(x):   0.003773\n",
            "iter: 245   f(x):   0.003766\n",
            "iter: 246   f(x):   0.003759\n",
            "iter: 247   f(x):   0.003752\n",
            "iter: 248   f(x):   0.003746\n",
            "iter: 249   f(x):   0.003739\n",
            "iter: 250   f(x):   0.003733\n",
            "iter: 251   f(x):   0.003726\n",
            "iter: 252   f(x):   0.003719\n",
            "iter: 253   f(x):   0.003713\n",
            "iter: 254   f(x):   0.003707\n",
            "iter: 255   f(x):   0.003700\n",
            "iter: 256   f(x):   0.003694\n",
            "iter: 257   f(x):   0.003687\n",
            "iter: 258   f(x):   0.003681\n",
            "iter: 259   f(x):   0.003675\n",
            "iter: 260   f(x):   0.003669\n",
            "iter: 261   f(x):   0.003662\n",
            "iter: 262   f(x):   0.003656\n",
            "iter: 263   f(x):   0.003650\n",
            "iter: 264   f(x):   0.003644\n",
            "iter: 265   f(x):   0.003638\n",
            "iter: 266   f(x):   0.003632\n",
            "iter: 267   f(x):   0.003626\n",
            "iter: 268   f(x):   0.003620\n",
            "iter: 269   f(x):   0.003614\n",
            "iter: 270   f(x):   0.003608\n",
            "iter: 271   f(x):   0.003602\n",
            "iter: 272   f(x):   0.003596\n",
            "iter: 273   f(x):   0.003590\n",
            "iter: 274   f(x):   0.003585\n",
            "iter: 275   f(x):   0.003579\n",
            "iter: 276   f(x):   0.003573\n",
            "iter: 277   f(x):   0.003567\n",
            "iter: 278   f(x):   0.003562\n",
            "iter: 279   f(x):   0.003556\n",
            "iter: 280   f(x):   0.003550\n",
            "iter: 281   f(x):   0.003545\n",
            "iter: 282   f(x):   0.003539\n",
            "iter: 283   f(x):   0.003534\n",
            "iter: 284   f(x):   0.003528\n",
            "iter: 285   f(x):   0.003523\n",
            "iter: 286   f(x):   0.003517\n",
            "iter: 287   f(x):   0.003512\n",
            "iter: 288   f(x):   0.003506\n",
            "iter: 289   f(x):   0.003501\n",
            "iter: 290   f(x):   0.003496\n",
            "iter: 291   f(x):   0.003490\n",
            "iter: 292   f(x):   0.003485\n",
            "iter: 293   f(x):   0.003480\n",
            "iter: 294   f(x):   0.003475\n",
            "iter: 295   f(x):   0.003469\n",
            "iter: 296   f(x):   0.003464\n",
            "iter: 297   f(x):   0.003459\n",
            "iter: 298   f(x):   0.003454\n",
            "iter: 299   f(x):   0.003449\n",
            "iter: 300   f(x):   0.003444\n",
            "iter: 301   f(x):   0.003438\n",
            "iter: 302   f(x):   0.003433\n",
            "iter: 303   f(x):   0.003428\n",
            "iter: 304   f(x):   0.003423\n",
            "iter: 305   f(x):   0.003418\n",
            "iter: 306   f(x):   0.003413\n",
            "iter: 307   f(x):   0.003409\n",
            "iter: 308   f(x):   0.003404\n",
            "iter: 309   f(x):   0.003399\n",
            "iter: 310   f(x):   0.003394\n",
            "iter: 311   f(x):   0.003389\n",
            "iter: 312   f(x):   0.003384\n",
            "iter: 313   f(x):   0.003379\n",
            "iter: 314   f(x):   0.003375\n",
            "iter: 315   f(x):   0.003370\n",
            "iter: 316   f(x):   0.003365\n",
            "iter: 317   f(x):   0.003360\n",
            "iter: 318   f(x):   0.003356\n",
            "iter: 319   f(x):   0.003351\n",
            "iter: 320   f(x):   0.003346\n",
            "iter: 321   f(x):   0.003342\n",
            "iter: 322   f(x):   0.003337\n",
            "iter: 323   f(x):   0.003333\n",
            "iter: 324   f(x):   0.003328\n",
            "iter: 325   f(x):   0.003323\n",
            "iter: 326   f(x):   0.003319\n",
            "iter: 327   f(x):   0.003314\n",
            "iter: 328   f(x):   0.003310\n",
            "iter: 329   f(x):   0.003305\n",
            "iter: 330   f(x):   0.003301\n",
            "iter: 331   f(x):   0.003296\n",
            "iter: 332   f(x):   0.003292\n",
            "iter: 333   f(x):   0.003288\n",
            "iter: 334   f(x):   0.003283\n",
            "iter: 335   f(x):   0.003279\n",
            "iter: 336   f(x):   0.003275\n",
            "iter: 337   f(x):   0.003270\n",
            "iter: 338   f(x):   0.003266\n",
            "iter: 339   f(x):   0.003262\n",
            "iter: 340   f(x):   0.003257\n",
            "iter: 341   f(x):   0.003253\n",
            "iter: 342   f(x):   0.003249\n",
            "iter: 343   f(x):   0.003245\n",
            "iter: 344   f(x):   0.003240\n",
            "iter: 345   f(x):   0.003236\n",
            "iter: 346   f(x):   0.003232\n",
            "iter: 347   f(x):   0.003228\n",
            "iter: 348   f(x):   0.003224\n",
            "iter: 349   f(x):   0.003220\n",
            "iter: 350   f(x):   0.003215\n",
            "iter: 351   f(x):   0.003211\n",
            "iter: 352   f(x):   0.003207\n",
            "iter: 353   f(x):   0.003203\n",
            "iter: 354   f(x):   0.003199\n",
            "iter: 355   f(x):   0.003195\n",
            "iter: 356   f(x):   0.003191\n",
            "iter: 357   f(x):   0.003187\n",
            "iter: 358   f(x):   0.003183\n",
            "iter: 359   f(x):   0.003179\n",
            "iter: 360   f(x):   0.003175\n",
            "iter: 361   f(x):   0.003171\n",
            "iter: 362   f(x):   0.003167\n",
            "iter: 363   f(x):   0.003164\n",
            "iter: 364   f(x):   0.003160\n",
            "iter: 365   f(x):   0.003156\n",
            "iter: 366   f(x):   0.003152\n",
            "iter: 367   f(x):   0.003148\n",
            "iter: 368   f(x):   0.003144\n",
            "iter: 369   f(x):   0.003140\n",
            "iter: 370   f(x):   0.003137\n",
            "iter: 371   f(x):   0.003133\n",
            "iter: 372   f(x):   0.003129\n",
            "iter: 373   f(x):   0.003125\n",
            "iter: 374   f(x):   0.003122\n",
            "iter: 375   f(x):   0.003118\n",
            "iter: 376   f(x):   0.003114\n",
            "iter: 377   f(x):   0.003110\n",
            "iter: 378   f(x):   0.003107\n",
            "iter: 379   f(x):   0.003103\n",
            "iter: 380   f(x):   0.003099\n",
            "iter: 381   f(x):   0.003096\n",
            "iter: 382   f(x):   0.003092\n",
            "iter: 383   f(x):   0.003088\n",
            "iter: 384   f(x):   0.003085\n",
            "iter: 385   f(x):   0.003081\n",
            "iter: 386   f(x):   0.003078\n",
            "iter: 387   f(x):   0.003074\n",
            "iter: 388   f(x):   0.003070\n",
            "iter: 389   f(x):   0.003067\n",
            "iter: 390   f(x):   0.003063\n",
            "iter: 391   f(x):   0.003060\n",
            "iter: 392   f(x):   0.003056\n",
            "iter: 393   f(x):   0.003053\n",
            "iter: 394   f(x):   0.003049\n",
            "iter: 395   f(x):   0.003046\n",
            "iter: 396   f(x):   0.003042\n",
            "iter: 397   f(x):   0.003039\n",
            "iter: 398   f(x):   0.003036\n",
            "iter: 399   f(x):   0.003032\n",
            "iter: 400   f(x):   0.003029\n",
            "iter: 401   f(x):   0.003025\n",
            "iter: 402   f(x):   0.003022\n",
            "iter: 403   f(x):   0.003018\n",
            "iter: 404   f(x):   0.003015\n",
            "iter: 405   f(x):   0.003012\n",
            "iter: 406   f(x):   0.003008\n",
            "iter: 407   f(x):   0.003005\n",
            "iter: 408   f(x):   0.003002\n",
            "iter: 409   f(x):   0.002998\n",
            "iter: 410   f(x):   0.002995\n",
            "iter: 411   f(x):   0.002992\n",
            "iter: 412   f(x):   0.002989\n",
            "iter: 413   f(x):   0.002985\n",
            "iter: 414   f(x):   0.002982\n",
            "iter: 415   f(x):   0.002979\n",
            "iter: 416   f(x):   0.002976\n",
            "iter: 417   f(x):   0.002972\n",
            "iter: 418   f(x):   0.002969\n",
            "iter: 419   f(x):   0.002966\n",
            "iter: 420   f(x):   0.002963\n",
            "iter: 421   f(x):   0.002960\n",
            "iter: 422   f(x):   0.002956\n",
            "iter: 423   f(x):   0.002953\n",
            "iter: 424   f(x):   0.002950\n",
            "iter: 425   f(x):   0.002947\n",
            "iter: 426   f(x):   0.002944\n",
            "iter: 427   f(x):   0.002941\n",
            "iter: 428   f(x):   0.002938\n",
            "iter: 429   f(x):   0.002934\n",
            "iter: 430   f(x):   0.002931\n",
            "iter: 431   f(x):   0.002928\n",
            "iter: 432   f(x):   0.002925\n",
            "iter: 433   f(x):   0.002922\n",
            "iter: 434   f(x):   0.002919\n",
            "iter: 435   f(x):   0.002916\n",
            "iter: 436   f(x):   0.002913\n",
            "iter: 437   f(x):   0.002910\n",
            "iter: 438   f(x):   0.002907\n",
            "iter: 439   f(x):   0.002904\n",
            "iter: 440   f(x):   0.002901\n",
            "iter: 441   f(x):   0.002898\n",
            "iter: 442   f(x):   0.002895\n",
            "iter: 443   f(x):   0.002892\n",
            "iter: 444   f(x):   0.002889\n",
            "iter: 445   f(x):   0.002886\n",
            "iter: 446   f(x):   0.002883\n",
            "iter: 447   f(x):   0.002880\n",
            "iter: 448   f(x):   0.002877\n",
            "iter: 449   f(x):   0.002874\n",
            "iter: 450   f(x):   0.002871\n",
            "iter: 451   f(x):   0.002868\n",
            "iter: 452   f(x):   0.002866\n",
            "iter: 453   f(x):   0.002863\n",
            "iter: 454   f(x):   0.002860\n",
            "iter: 455   f(x):   0.002857\n",
            "iter: 456   f(x):   0.002854\n",
            "iter: 457   f(x):   0.002851\n",
            "iter: 458   f(x):   0.002848\n",
            "iter: 459   f(x):   0.002846\n",
            "iter: 460   f(x):   0.002843\n",
            "iter: 461   f(x):   0.002840\n",
            "iter: 462   f(x):   0.002837\n",
            "iter: 463   f(x):   0.002834\n",
            "iter: 464   f(x):   0.002832\n",
            "iter: 465   f(x):   0.002829\n",
            "iter: 466   f(x):   0.002826\n",
            "iter: 467   f(x):   0.002823\n",
            "iter: 468   f(x):   0.002820\n",
            "iter: 469   f(x):   0.002818\n",
            "iter: 470   f(x):   0.002815\n",
            "iter: 471   f(x):   0.002812\n",
            "iter: 472   f(x):   0.002810\n",
            "iter: 473   f(x):   0.002807\n",
            "iter: 474   f(x):   0.002804\n",
            "iter: 475   f(x):   0.002801\n",
            "iter: 476   f(x):   0.002799\n",
            "iter: 477   f(x):   0.002796\n",
            "iter: 478   f(x):   0.002793\n",
            "iter: 479   f(x):   0.002791\n",
            "iter: 480   f(x):   0.002788\n",
            "iter: 481   f(x):   0.002785\n",
            "iter: 482   f(x):   0.002783\n",
            "iter: 483   f(x):   0.002780\n",
            "iter: 484   f(x):   0.002777\n",
            "iter: 485   f(x):   0.002775\n",
            "iter: 486   f(x):   0.002772\n",
            "iter: 487   f(x):   0.002769\n",
            "iter: 488   f(x):   0.002767\n",
            "iter: 489   f(x):   0.002764\n",
            "iter: 490   f(x):   0.002762\n",
            "iter: 491   f(x):   0.002759\n",
            "iter: 492   f(x):   0.002757\n",
            "iter: 493   f(x):   0.002754\n",
            "iter: 494   f(x):   0.002751\n",
            "iter: 495   f(x):   0.002749\n",
            "iter: 496   f(x):   0.002746\n",
            "iter: 497   f(x):   0.002744\n",
            "iter: 498   f(x):   0.002741\n",
            "iter: 499   f(x):   0.002739\n"
          ]
        }
      ]
    },
    {
      "cell_type": "markdown",
      "source": [
        "### **Evaluate the train and test errors**"
      ],
      "metadata": {
        "id": "HxgXM0tUV6cJ"
      }
    },
    {
      "cell_type": "code",
      "source": [
        "from sklearn.metrics import precision_score\n",
        "\n",
        "\n",
        "y = (h(w_optimal, trainX_) >= 0.5).astype(int)\n",
        "print(\"Train precision: \", precision_score(trainY, y))\n",
        "\n",
        "y = (h(w_optimal, testX_) >= 0.5).astype(int)\n",
        "print(\"Test precision: \", precision_score(testY, y))"
      ],
      "metadata": {
        "colab": {
          "base_uri": "https://localhost:8080/"
        },
        "id": "HIkmoT6EDKYe",
        "outputId": "0187dbfe-2397-43b3-90d1-50a8770f7cb1"
      },
      "execution_count": 136,
      "outputs": [
        {
          "output_type": "stream",
          "name": "stdout",
          "text": [
            "Train precision:  0.9992583803025809\n",
            "Test precision:  0.9982409850483729\n"
          ]
        }
      ]
    },
    {
      "cell_type": "markdown",
      "source": [
        "### **Show images**"
      ],
      "metadata": {
        "id": "tzyPT3Q1WHgb"
      }
    },
    {
      "cell_type": "code",
      "source": [
        "def get_by_label(X, Y, label):\n",
        "  idx = np.squeeze(Y) == label\n",
        "  return X[idx], Y[idx]\n",
        "\n",
        "\n",
        "# Show images\n",
        "def show_images(X, N):\n",
        "  for i in range(N):\n",
        "    plt.subplot(int(N/2), 2, i + 1)\n",
        "    plt.imshow(np.reshape(X[i], (28, 28)))\n",
        "    plt.axis('Off')"
      ],
      "metadata": {
        "id": "DkjB_lhkL7hb"
      },
      "execution_count": 137,
      "outputs": []
    },
    {
      "cell_type": "code",
      "source": [
        "X0, y0 = get_by_label(testX, y, 0)\n",
        "show_images(X0, 10)"
      ],
      "metadata": {
        "colab": {
          "base_uri": "https://localhost:8080/",
          "height": 406
        },
        "id": "-l5P4dI2MAwS",
        "outputId": "54533d6c-28f5-449e-d28b-7acad119fd01"
      },
      "execution_count": 138,
      "outputs": [
        {
          "output_type": "display_data",
          "data": {
            "text/plain": [
              "<Figure size 640x480 with 10 Axes>"
            ],
            "image/png": "[encoded data removed]"
          },
          "metadata": {}
        }
      ]
    },
    {
      "cell_type": "code",
      "source": [],
      "metadata": {
        "id": "FnbYDy-FMDEu"
      },
      "execution_count": 138,
      "outputs": []
    },
    {
      "cell_type": "code",
      "source": [
        "X1, y1 = get_by_label(testX, y, 1)\n",
        "show_images(X1, 10)"
      ],
      "metadata": {
        "colab": {
          "base_uri": "https://localhost:8080/",
          "height": 406
        },
        "id": "u6MzdpbPMHLE",
        "outputId": "d75c8ace-da32-48da-c29f-8e56277be96a"
      },
      "execution_count": 139,
      "outputs": [
        {
          "output_type": "display_data",
          "data": {
            "text/plain": [
              "<Figure size 640x480 with 10 Axes>"
            ],
            "image/png": "[encoded data removed]"
          },
          "metadata": {}
        }
      ]
    },
    {
      "cell_type": "code",
      "source": [],
      "metadata": {
        "id": "XP_sbvrnMKEt"
      },
      "execution_count": 139,
      "outputs": []
    }
  ]
}